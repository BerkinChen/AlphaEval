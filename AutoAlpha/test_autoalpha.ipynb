{
 "cells": [
  {
   "cell_type": "code",
   "execution_count": 1,
   "metadata": {},
   "outputs": [
    {
     "name": "stderr",
     "output_type": "stream",
     "text": [
      "[107318:MainThread](2025-07-06 21:34:44,747) INFO - qlib.Initialization - [config.py:420] - default_conf: client.\n",
      "[107318:MainThread](2025-07-06 21:34:45,877) INFO - qlib.Initialization - [__init__.py:74] - qlib successfully initialized based on client settings.\n",
      "[107318:MainThread](2025-07-06 21:34:45,878) INFO - qlib.Initialization - [__init__.py:76] - data_path={'__DEFAULT_FREQ': PosixPath('/data/home/dinghj/zr-alphagen/zr-alpha-training-base/.qlib/qlib_data/cn_data')}\n"
     ]
    }
   ],
   "source": [
    "import numpy as np\n",
    "import qlib\n",
    "from qlib.data import D\n",
    "\n",
    "# 1. 初始化 Qlib，用你自己的数据路径或测试路径\n",
    "qlib.init(\n",
    "    provider_uri=\"/data/home/dinghj/zr-alphagen/zr-alpha-training-base/.qlib/qlib_data/cn_data\",\n",
    "    region=\"cn\"\n",
    ")"
   ]
  },
  {
   "cell_type": "code",
   "execution_count": 2,
   "metadata": {},
   "outputs": [
    {
     "name": "stdout",
     "output_type": "stream",
     "text": [
      "/data/home/dinghj\n",
      "/data/home/dinghj/zr-alphagen/zr-alpha-training-base/paper\n"
     ]
    }
   ],
   "source": [
    "import os\n",
    "print(os.getcwd())\n",
    "%cd /data/home/dinghj/zr-alphagen/zr-alpha-training-base/paper"
   ]
  },
  {
   "cell_type": "code",
   "execution_count": 3,
   "metadata": {},
   "outputs": [],
   "source": [
    "from AutoAlpha._program import _Program\n",
    "from AutoAlpha.fitness import _fitness_map"
   ]
  },
  {
   "cell_type": "code",
   "execution_count": 4,
   "metadata": {},
   "outputs": [],
   "source": [
    "# 3. 构造一个固定的 _Program 实例\n",
    "prog = _Program(\n",
    "    function_set=[\"Mean\"],\n",
    "    # 这里按照你在 config.py 里定义的 arity：Mean 对应 4，\n",
    "    # 但 __str__ 会将 arity=4 当作二元算子(序列, 窗口)来处理\n",
    "    arities={4: [\"Mean\"]},\n",
    "    init_depth=(1, 1),\n",
    "    init_method=\"full\",\n",
    "    n_features=1,\n",
    "    const_range=(1, 10),\n",
    "    metric=_fitness_map[\"mse\"],        # 任意可用的 fitness，只用于初始化\n",
    "    p_point_replace=0.1,\n",
    "    parsimony_coefficient=0.0,\n",
    "    random_state=np.random.RandomState(0),\n",
    "    transformer=None,\n",
    "    feature_names=[\"$close\"],          # 用于识别变量名\n",
    "    program=[\"Add\", \"Mean\", \"$close\", 5, 2],     # 我们想要测试的树\n",
    "    qlib_config={                       # 这里只给个占位，__str__ 不会读取它\n",
    "        \"data_client\": D,\n",
    "        \"instruments\": D.instruments(market=\"csi300\"),\n",
    "        \"start_time\": \"2021-01-01\",\n",
    "        \"end_time\": \"2021-02-01\",\n",
    "        \"freq\": \"day\",\n",
    "    }\n",
    ")"
   ]
  },
  {
   "cell_type": "code",
   "execution_count": 5,
   "metadata": {},
   "outputs": [
    {
     "data": {
      "text/plain": [
       "'Add(Mean($close, 5), 2)'"
      ]
     },
     "execution_count": 5,
     "metadata": {},
     "output_type": "execute_result"
    }
   ],
   "source": [
    "str(prog)"
   ]
  },
  {
   "cell_type": "code",
   "execution_count": 6,
   "metadata": {},
   "outputs": [
    {
     "name": "stdout",
     "output_type": "stream",
     "text": [
      "                       Add(Mean($close, 5), 2)\n",
      "instrument datetime                           \n",
      "SH600000   2021-01-04                13.998880\n",
      "           2021-01-05                14.026306\n",
      "           2021-01-06                14.098881\n",
      "           2021-01-07                14.176306\n",
      "           2021-01-08                14.213806\n"
     ]
    }
   ],
   "source": [
    "from qlib.data import D\n",
    "expr = \"Add(Mean($close, 5), 2)\"\n",
    "df = D.features(instruments=D.instruments('csi300'),\n",
    "                fields=[expr],\n",
    "                start_time=\"2021-01-01\",\n",
    "                end_time=\"2021-02-01\",\n",
    "                freq=\"day\")\n",
    "print(df.head())"
   ]
  },
  {
   "cell_type": "code",
   "execution_count": 7,
   "metadata": {},
   "outputs": [
    {
     "name": "stdout",
     "output_type": "stream",
     "text": [
      "Add(Mean($close, 5), 2)\n"
     ]
    },
    {
     "data": {
      "text/plain": [
       "array([13.99888 , 14.026306, 14.098881, ..., 10.326578,  9.925967,\n",
       "        9.630958], dtype=float32)"
      ]
     },
     "execution_count": 7,
     "metadata": {},
     "output_type": "execute_result"
    }
   ],
   "source": [
    "out = prog.execute(None)\n",
    "out"
   ]
  },
  {
   "cell_type": "code",
   "execution_count": 8,
   "metadata": {},
   "outputs": [
    {
     "name": "stderr",
     "output_type": "stream",
     "text": [
      "[107318:MainThread](2025-07-06 21:34:49,142) INFO - qlib.Initialization - [config.py:420] - default_conf: client.\n",
      "[107318:MainThread](2025-07-06 21:34:49,145) INFO - qlib.Initialization - [__init__.py:74] - qlib successfully initialized based on client settings.\n",
      "[107318:MainThread](2025-07-06 21:34:49,146) INFO - qlib.Initialization - [__init__.py:76] - data_path={'__DEFAULT_FREQ': PosixPath('/data/home/dinghj/zr-alphagen/zr-alpha-training-base/.qlib/qlib_data/cn_data')}\n"
     ]
    }
   ],
   "source": [
    "import numpy as np\n",
    "import qlib\n",
    "from qlib.data import D\n",
    "from AutoAlpha._program import _Program\n",
    "from AutoAlpha.config import functions_arity\n",
    "\n",
    "# ——— 1. 初始化 Qlib ———\n",
    "qlib.init(\n",
    "    provider_uri=\"/data/home/dinghj/zr-alphagen/zr-alpha-training-base/.qlib/qlib_data/cn_data\",\n",
    "    region=\"cn\"\n",
    ")\n",
    "\n",
    "# ——— 2. 构造通用参数 ———\n",
    "common_args = {\n",
    "    \"function_set\": [\"Mean\", \"Add\"],\n",
    "    # Mean 在 config.py 中标为 arity=4（滚动类），Add 标为 arity=2\n",
    "    \"arities\": {4: [\"Mean\"], 2: [\"Add\"], 2: [\"Sub\"]},\n",
    "    \"init_depth\": (1, 1),\n",
    "    \"init_method\": \"full\",\n",
    "    \"n_features\": 1,\n",
    "    \"const_range\": (1, 10),\n",
    "    \"metric\": None,                # 只为初始化，不实际用\n",
    "    \"p_point_replace\": 0.0,\n",
    "    \"parsimony_coefficient\": 0.0,\n",
    "    \"random_state\": np.random.RandomState(0),\n",
    "    \"transformer\": None,\n",
    "    \"feature_names\": [\"$close\", \"$open\"],\n",
    "    \"qlib_config\": {\n",
    "        \"data_client\": D,\n",
    "        \"instruments\": D.instruments(market=\"csi300\"),\n",
    "        \"start_time\": \"2021-01-01\",\n",
    "        \"end_time\": \"2021-02-01\",\n",
    "        \"freq\": \"day\",\n",
    "    }\n",
    "}\n",
    "\n",
    "# ——— 3. 创建两个简单的 _Program 实例 ———\n",
    "prog1 = _Program(program=[\"Add\", \"Mean\", \"$close\", 5, 2], **common_args)\n",
    "prog2 = _Program(program=[\"Sub\", \"$close\", \"Mean\", \"$open\", 10],  **common_args)"
   ]
  },
  {
   "cell_type": "code",
   "execution_count": 9,
   "metadata": {},
   "outputs": [],
   "source": [
    "def assert_valid(nodes):\n",
    "    \"\"\"\n",
    "    尝试用 nodes 列表重新构造 _Program，\n",
    "    若抛异常则说明语法不合法。\n",
    "    \"\"\"\n",
    "    try:\n",
    "        _Program(program=nodes, **common_args)\n",
    "    except Exception as e:\n",
    "        raise AssertionError(f\"非法程序结构: {e}\")\n",
    "\n",
    "def assert_window_constants(nodes):\n",
    "    \"\"\"\n",
    "    对于所有标记为滚动类的函数（functions_arity == 4），\n",
    "    检查其第二个子节点（窗口参数）是否为 int 或 float。\n",
    "    \"\"\"\n",
    "    for idx, node in enumerate(nodes):\n",
    "        if isinstance(node, str) and functions_arity.get(node, 0) == 4:\n",
    "            # __str__ 中把 arity=4 当成二元算子，第二个参数在 idx+2\n",
    "            if idx + 2 >= len(nodes):\n",
    "                raise AssertionError(f\"函数 {node} 缺少参数\")\n",
    "            win = nodes[idx + 2]\n",
    "            if not isinstance(win, (int, float)):\n",
    "                raise AssertionError(f\"{node} 的窗口参数不是常量: got {win!r}\")\n",
    "\n",
    "offspring1, offspring2 = prog1.crossover(prog2.program, np.random.RandomState(1))\n",
    "assert_valid(offspring1)\n",
    "assert_window_constants(offspring1)"
   ]
  },
  {
   "cell_type": "code",
   "execution_count": 10,
   "metadata": {},
   "outputs": [],
   "source": [
    "prog3 = prog1.depth_evolution(prog2, np.random.RandomState(1))"
   ]
  },
  {
   "cell_type": "code",
   "execution_count": 11,
   "metadata": {},
   "outputs": [
    {
     "data": {
      "text/plain": [
       "'Add(Add(Mean($close, 5), 2), Sub($close, Mean($open, 10)))'"
      ]
     },
     "execution_count": 11,
     "metadata": {},
     "output_type": "execute_result"
    }
   ],
   "source": [
    "str(_Program(program=prog3, **common_args))"
   ]
  },
  {
   "cell_type": "code",
   "execution_count": 12,
   "metadata": {},
   "outputs": [
    {
     "name": "stderr",
     "output_type": "stream",
     "text": [
      "/data/home/dinghj/zr-alphagen/zr-alpha-training-base/paper/AutoAlpha/genetic.py:447: SyntaxWarning: 'str' object is not callable; perhaps you missed a comma?\n",
      "  raise ValueError('invalid type found in `function_set`.'\n"
     ]
    }
   ],
   "source": [
    "import numpy as np\n",
    "import pandas as pd\n",
    "from AutoAlpha.genetic import SymbolicTransformer\n",
    "\n",
    "# 生成伪造数据\n",
    "n_samples = 6300\n",
    "n_features = 2\n",
    "X = np.random.randn(n_samples, n_features)\n",
    "y = np.random.randn(n_samples)\n",
    "\n",
    "# 创建并运行 SymbolicTransformer\n",
    "transformer = SymbolicTransformer(\n",
    "    population_size=10,             # 极小种群\n",
    "    hall_of_fame=5,                  # 最多保留 5 个最优程序\n",
    "    n_components=3,                  # 最终生成 3 个特征\n",
    "    generations=1,                   # 只跑两代\n",
    "    function_set=(\"Add\", \"Mean\", \"Sub\"),    # 简化的算子集\n",
    "    metric=\"pearson\",                # 用相关系数做指标\n",
    "    parsimony_coefficient=0.0,\n",
    "    qlib_config=common_args[\"qlib_config\"],\n",
    "    feature_names=[\"$close\", \"$open\"],        # 与 X 列对应\n",
    "    random_state=0\n",
    ")"
   ]
  },
  {
   "cell_type": "code",
   "execution_count": 13,
   "metadata": {},
   "outputs": [
    {
     "name": "stdout",
     "output_type": "stream",
     "text": [
      "Sub(Mean($open, 30), Sub($close, $close))\n"
     ]
    },
    {
     "name": "stdout",
     "output_type": "stream",
     "text": [
      "Sub(Mean($open, 12), Sub($open, $open))\n",
      "Add(Sub($close, $close), Mean($open, 30))\n",
      "Add(Sub($close, $close), Mean($open, 30))\n",
      "Sub(Sub($close, $close), Sub($open, $open))\n",
      "Sub(Mean($open, 30), Sub($close, $close))\n",
      "Sub(Mean($close, 30), Sub($close, $close))\n",
      "Add(Mean($open, 12), Sub($close, $close))\n",
      "Add(Sub($close, $close), Mean($open, 30))\n",
      "Sub(Mean($open, 12), Sub($open, $open))\n",
      "Add(Mean($open, 2), Mean($open, 30))\n",
      "Sub(Sub($close, $close), Sub($open, $open))\n",
      "Sub(Add($close, $close), Mean($close, 30))\n",
      "Sub(Mean($open, 2), Mean($open, 12))\n",
      "Add(Sub($close, $close), Mean($close, 30))\n",
      "Add(Add($close, $close), Sub($open, $open))\n",
      "Add(Sub($close, $close), Mean($open, 30))\n",
      "Add(Mean($open, 12), Sub($open, $open))\n",
      "Add(Mean($open, 2), Sub($close, $close))\n",
      "Sub(Sub($open, $open), Add($close, $close))\n",
      "Sub(Mean($open, 2), Sub($open, $open))\n",
      "Add(Sub($close, $close), Add($close, $close))\n",
      "Sub(Mean($open, 2), Sub($open, $open))\n",
      "Add(Mean($open, 30), Mean($open, 2))\n",
      "Add(Mean($open, 12), Mean($open, 30))\n",
      "Sub(Add($close, $close), Mean($open, 30))\n",
      "Sub(Mean($open, 30), Mean($close, 30))\n",
      "Sub(Mean($open, 30), Sub($open, $open))\n",
      "Add(Mean($open, 2), Add($close, $close))\n",
      "Sub(Mean($open, 12), Mean($close, 30))\n",
      "Sub(Sub($open, $open), Add($close, $close))\n",
      "Add(Mean($open, 12), Sub($close, $close))\n",
      "Sub(Mean($close, 30), Sub($close, $close))\n",
      "Add(Add($close, $close), Mean($close, 30))\n",
      "Sub(Sub($open, $open), Mean($open, 30))\n",
      "Add(Mean($open, 12), Sub($close, $close))\n",
      "Add(Add($close, $close), Sub($open, $open))\n",
      "Sub(Mean($open, 12), Mean($open, 30))\n",
      "Sub(Mean($close, 30), Sub($close, $close))\n",
      "Add(Mean($open, 30), Sub($open, $open))\n",
      "Add(Sub($close, $close), Sub($close, $close))\n",
      "Add(Add($close, $close), Mean($close, 30))\n",
      "Add(Mean($open, 30), Mean($open, 30))\n",
      "Sub(Mean($open, 2), Mean($open, 30))\n",
      "Sub(Mean($open, 2), Sub($close, $close))\n",
      "Add(Add($close, $close), Mean($open, 30))\n",
      "Sub(Mean($close, 30), Mean($open, 30))\n",
      "Add(Sub($close, $close), Mean($close, 30))\n",
      "Sub(Mean($open, 2), Sub($close, $close))\n",
      "Sub(Mean($open, 2), Sub($open, $open))\n",
      "Warm Start Finished: Generation 0.\n",
      "parents:  Add(Mean($open, 30), Mean($open, 30)) Add(Mean($open, 30), Mean($open, 30)) \n",
      " sons:  Add(Mean($open, 30), Mean($open, 30)) Add(Mean($open, 30), Mean($open, 30))\n",
      "Add(Mean($open, 30), Mean($open, 30))\n",
      "Add(Mean($open, 30), Mean($open, 30))\n",
      "parents:  Add(Mean($open, 30), Mean($open, 30)) Add(Mean($open, 30), Mean($open, 30)) \n",
      " sons:  Add(Mean($open, 30), Mean($open, 30)) Add(Mean($open, 30), Mean($open, 30))\n",
      "Add(Mean($open, 30), Mean($open, 30))\n",
      "Add(Mean($open, 30), Mean($open, 30))\n",
      "parents:  Add(Mean($open, 30), Mean($open, 30)) Add(Mean($open, 30), Mean($open, 30)) \n",
      " sons:  Add(Mean($open, 30), Mean($open, 30)) Add(Mean($open, 30), Mean($open, 30))\n",
      "Add(Mean($open, 30), Mean($open, 30))\n",
      "Add(Mean($open, 30), Mean($open, 30))\n",
      "parents:  Add(Mean($open, 30), Mean($open, 30)) Add(Mean($open, 30), Mean($open, 30)) \n",
      " sons:  Add(Mean($open, 30), Mean($open, 30)) Add(Mean($open, 30), Mean($open, 30))\n",
      "Add(Mean($open, 30), Mean($open, 30))\n",
      "Add(Mean($open, 30), Mean($open, 30))\n",
      "parents:  Add(Mean($open, 30), Mean($open, 30)) Add(Mean($open, 30), Mean($open, 30)) \n",
      " sons:  Add(Mean($open, 30), Mean($open, 30)) Add(Mean($open, 30), Mean($open, 30))\n",
      "Add(Mean($open, 30), Mean($open, 30))\n",
      "Add(Mean($open, 30), Mean($open, 30))\n",
      "parents:  Add(Mean($open, 12), Mean($open, 30)) Add(Mean($open, 30), Mean($open, 30)) \n",
      " sons:  Add(Mean($open, 12), Mean($open, 30)) Add(Mean($open, 30), Mean($open, 30))\n",
      "Add(Mean($open, 12), Mean($open, 30))\n",
      "Add(Mean($open, 30), Mean($open, 30))\n",
      "parents:  Add(Mean($open, 30), Mean($open, 30)) Add(Mean($open, 30), Mean($open, 30)) \n",
      " sons:  Add(Mean($open, 30), Mean($open, 30)) Add(Mean($open, 30), Mean($open, 30))\n",
      "Add(Mean($open, 30), Mean($open, 30))\n",
      "Add(Mean($open, 30), Mean($open, 30))\n",
      "parents:  Add(Mean($open, 12), Mean($open, 30)) Add(Mean($open, 30), Mean($open, 30)) \n",
      " sons:  Add(Mean($open, 12), Mean($open, 30)) Add(Mean($open, 30), Mean($open, 30))\n",
      "Add(Mean($open, 12), Mean($open, 30))\n",
      "Add(Mean($open, 30), Mean($open, 30))\n",
      "parents:  Add(Mean($open, 30), Mean($open, 30)) Add(Mean($open, 30), Mean($open, 30)) \n",
      " sons:  Add(Mean($open, 30), Mean($open, 30)) Add(Mean($open, 30), Mean($open, 30))\n",
      "Add(Mean($open, 30), Mean($open, 30))\n",
      "Add(Mean($open, 30), Mean($open, 30))\n",
      "parents:  Add(Mean($open, 30), Mean($open, 30)) Add(Mean($open, 30), Mean($open, 30)) \n",
      " sons:  Add(Mean($open, 30), Mean($open, 30)) Add(Mean($open, 30), Mean($open, 30))\n",
      "Add(Mean($open, 30), Mean($open, 30))\n",
      "Add(Mean($open, 30), Mean($open, 30))\n",
      "Replacement Finished: Generation 0.\n",
      "Add(Mean($open, 30), Mean($open, 30))\n",
      "Add(Mean($open, 12), Mean($open, 30))\n",
      "Sub(Mean($close, 30), Mean($open, 30))\n",
      "Sub(Mean($open, 30), Mean($close, 30))\n",
      "Sub(Mean($open, 12), Mean($close, 30))\n",
      "Add(Mean($open, 30), Mean($open, 30))\n",
      "Sub(Mean($close, 30), Mean($open, 30))\n",
      "Sub(Mean($open, 12), Mean($close, 30))\n"
     ]
    }
   ],
   "source": [
    "X_new = transformer.fit_transform(X, y)"
   ]
  },
  {
   "cell_type": "code",
   "execution_count": 14,
   "metadata": {},
   "outputs": [
    {
     "data": {
      "text/html": [
       "<div>\n",
       "<style scoped>\n",
       "    .dataframe tbody tr th:only-of-type {\n",
       "        vertical-align: middle;\n",
       "    }\n",
       "\n",
       "    .dataframe tbody tr th {\n",
       "        vertical-align: top;\n",
       "    }\n",
       "\n",
       "    .dataframe thead th {\n",
       "        text-align: right;\n",
       "    }\n",
       "</style>\n",
       "<table border=\"1\" class=\"dataframe\">\n",
       "  <thead>\n",
       "    <tr style=\"text-align: right;\">\n",
       "      <th></th>\n",
       "      <th>formula</th>\n",
       "      <th>IC</th>\n",
       "    </tr>\n",
       "  </thead>\n",
       "  <tbody>\n",
       "    <tr>\n",
       "      <th>0</th>\n",
       "      <td>Add(Mean($open, 30), Mean($open, 30))</td>\n",
       "      <td>-0.005493</td>\n",
       "    </tr>\n",
       "    <tr>\n",
       "      <th>1</th>\n",
       "      <td>Sub(Mean($close, 30), Mean($open, 30))</td>\n",
       "      <td>-0.006344</td>\n",
       "    </tr>\n",
       "    <tr>\n",
       "      <th>2</th>\n",
       "      <td>Sub(Mean($open, 12), Mean($close, 30))</td>\n",
       "      <td>0.010949</td>\n",
       "    </tr>\n",
       "  </tbody>\n",
       "</table>\n",
       "</div>"
      ],
      "text/plain": [
       "                                  formula        IC\n",
       "0   Add(Mean($open, 30), Mean($open, 30)) -0.005493\n",
       "1  Sub(Mean($close, 30), Mean($open, 30)) -0.006344\n",
       "2  Sub(Mean($open, 12), Mean($close, 30))  0.010949"
      ]
     },
     "execution_count": 14,
     "metadata": {},
     "output_type": "execute_result"
    }
   ],
   "source": [
    "programs = transformer._best_programs\n",
    "records = []\n",
    "from scipy.stats import spearmanr\n",
    "for idx, prog in enumerate(programs):\n",
    "    expr = str(prog)\n",
    "    ic = spearmanr(X_new[:, idx], y).correlation\n",
    "    records.append({\n",
    "        \"formula\":   expr,\n",
    "        \"IC\":  ic,\n",
    "    })\n",
    "\n",
    "# 5) 整理成 DataFrame 并按 IC_train 排序\n",
    "result_df = pd.DataFrame(records)\n",
    "\n",
    "# 6) 打印 & （可选）保存到 csv\n",
    "result_df"
   ]
  }
 ],
 "metadata": {
  "kernelspec": {
   "display_name": "myenv",
   "language": "python",
   "name": "python3"
  },
  "language_info": {
   "codemirror_mode": {
    "name": "ipython",
    "version": 3
   },
   "file_extension": ".py",
   "mimetype": "text/x-python",
   "name": "python",
   "nbconvert_exporter": "python",
   "pygments_lexer": "ipython3",
   "version": "3.11.11"
  }
 },
 "nbformat": 4,
 "nbformat_minor": 2
}
