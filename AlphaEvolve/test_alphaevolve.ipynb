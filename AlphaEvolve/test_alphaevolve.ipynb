{
 "cells": [
  {
   "cell_type": "code",
   "execution_count": 1,
   "metadata": {},
   "outputs": [],
   "source": [
    "import tushare as ts\n",
    "\n",
    "# 1）初始化\n",
    "ts.set_token('d9328f1b9d1a325374a671d8dbe5de2f40914c468f6fff40c350e67d')  \n",
    "pro = ts.pro_api()"
   ]
  },
  {
   "cell_type": "code",
   "execution_count": 14,
   "metadata": {},
   "outputs": [
    {
     "name": "stdout",
     "output_type": "stream",
     "text": [
      "已保存 5151 条沪深所有股票映射到 /data/home/dinghj/zr-alphagen/zr-alpha-training-base/paper/AlphaEvolve/1.csv\n"
     ]
    }
   ],
   "source": [
    "# fetch_sh_sz_active_since_2021_industry.py\n",
    "\n",
    "import tushare as ts\n",
    "import pandas as pd\n",
    "\n",
    "def fetch_all_sh_sz_map() -> dict:\n",
    "    \"\"\"\n",
    "    获取沪深两市所有在市和已退市股票的行业映射（尽可能全，不限日期）。\n",
    "\n",
    "    返回\n",
    "    ----\n",
    "    dict { ts_code: industry }\n",
    "    \"\"\"\n",
    "    # 1) 拉当前在市和已退市的股票，一次性取 exchange 字段作交易所筛选\n",
    "    df_all = pro.stock_basic(\n",
    "        # 不指定 list_status，默认返回所有（'L','D','P'等）\n",
    "        fields=\"ts_code,industry,exchange\"\n",
    "    )\n",
    "    # 2) 只保留上交所（exchange=='SSE'）和深交所（'SZSE'）的\n",
    "    df_shsz = df_all[df_all[\"exchange\"].isin([\"SSE\", \"SZSE\"])].copy()\n",
    "\n",
    "    # 3) 构造映射 dict\n",
    "    mapping = dict(zip(df_shsz[\"ts_code\"], df_shsz[\"industry\"]))\n",
    "\n",
    "    return mapping\n",
    "\n",
    "def save_to_csv(mapping: dict, path: str = \"/data/home/dinghj/zr-alphagen/zr-alpha-training-base/paper/AlphaEvolve/1.csv\"):\n",
    "    \"\"\"\n",
    "    保存为 CSV，格式：\n",
    "      instrument,industry\n",
    "    \"\"\"\n",
    "    df = pd.DataFrame(list(mapping.items()), columns=[\"instrument\", \"industry\"])\n",
    "    df['instrument'] = df['instrument'].str.replace(\n",
    "        r'(\\d+)\\.(\\w+)',     # 匹配：一串数字 + “.” + 一串字母\n",
    "        r'\\2\\1',             # 替换为：字母 + 数字\n",
    "        regex=True\n",
    "    )    \n",
    "    df.to_csv(path, index=False)\n",
    "    print(f\"已保存 {len(mapping)} 条沪深所有股票映射到 {path}\")\n",
    "\n",
    "if __name__ == \"__main__\":\n",
    "    df_active = fetch_all_sh_sz_map()\n",
    "    save_to_csv(df_active)\n"
   ]
  },
  {
   "cell_type": "code",
   "execution_count": 8,
   "metadata": {},
   "outputs": [],
   "source": [
    "df = pro.index_classify(level='L1', src='SW2021')"
   ]
  },
  {
   "cell_type": "code",
   "execution_count": 6,
   "metadata": {},
   "outputs": [],
   "source": [
    "df_cat = pro.index_classify(\n",
    "    level=\"L1\",\n",
    "    src=\"SW2021\",\n",
    "    fields=[\"index_code\", \"industry_name\"],\n",
    ")"
   ]
  },
  {
   "cell_type": "code",
   "execution_count": 8,
   "metadata": {},
   "outputs": [
    {
     "name": "stdout",
     "output_type": "stream",
     "text": [
      "共 5681 只股票被映射到行业\n"
     ]
    }
   ],
   "source": [
    "import pandas as pd\n",
    "def fetch_full_industry_map():\n",
    "    # 1) 申万 L1 映射（只含沪深）\n",
    "    df_cat = pro.index_classify(level=\"L1\", src=\"SW2021\", fields=[\"index_code\", \"industry_name\"])\n",
    "    sw_map = {}\n",
    "    for _, row in df_cat.iterrows():\n",
    "        ind_code, ind_name = row[\"index_code\"], row[\"industry_name\"]\n",
    "        df_mem = pro.index_member(index_code=ind_code, fields=[\"con_code\"])\n",
    "        for ts_code in df_mem[\"con_code\"].dropna().unique():\n",
    "            sw_map[ts_code] = ind_name\n",
    "\n",
    "    # 2) stock_basic 拿全市场行业\n",
    "    df_basic = pro.stock_basic(list_status=\"L\", fields=[\"ts_code\", \"industry\"])\n",
    "    # df_basic['industry'] 是 Tushare 自带的行业字段（CSRC/无注）\n",
    "    basic_map = dict(zip(df_basic[\"ts_code\"], df_basic[\"industry\"]))\n",
    "\n",
    "    # 3) 合并：以 sw_map 为准，其他用 basic_map\n",
    "    full_map = sw_map.copy()\n",
    "    for ts_code, ind in basic_map.items():\n",
    "        if ts_code not in full_map:\n",
    "            full_map[ts_code] = ind  # 北交所/其他交易所股票会被补上\n",
    "\n",
    "    return full_map\n",
    "\n",
    "full_map = fetch_full_industry_map()\n",
    "df = pd.DataFrame(list(full_map.items()), columns=[\"instrument\", \"industry\"])\n",
    "print(\"共 %d 只股票被映射到行业\" % len(full_map))"
   ]
  },
  {
   "cell_type": "code",
   "execution_count": 7,
   "metadata": {},
   "outputs": [],
   "source": [
    "mapping = {}\n",
    "for _, row in df_cat.iterrows():\n",
    "    ind_code = row[\"index_code\"]\n",
    "    ind_name = row[\"industry_name\"]\n",
    "    # 只拉取 con_code（成分股代码）即可\n",
    "    df_mem = pro.index_member(\n",
    "        index_code=ind_code,\n",
    "        fields=[\"con_code\"],\n",
    "    )\n",
    "    # 将每只成分股映射到该行业\n",
    "    for ts_code in df_mem[\"con_code\"].dropna().unique():\n",
    "        mapping[ts_code] = ind_code"
   ]
  },
  {
   "cell_type": "code",
   "execution_count": 8,
   "metadata": {},
   "outputs": [],
   "source": [
    "import pandas as pd\n",
    "df = pd.DataFrame(list(mapping.items()), columns=[\"instrument\", \"industry\"])"
   ]
  },
  {
   "cell_type": "code",
   "execution_count": 9,
   "metadata": {},
   "outputs": [
    {
     "data": {
      "text/html": [
       "<div>\n",
       "<style scoped>\n",
       "    .dataframe tbody tr th:only-of-type {\n",
       "        vertical-align: middle;\n",
       "    }\n",
       "\n",
       "    .dataframe tbody tr th {\n",
       "        vertical-align: top;\n",
       "    }\n",
       "\n",
       "    .dataframe thead th {\n",
       "        text-align: right;\n",
       "    }\n",
       "</style>\n",
       "<table border=\"1\" class=\"dataframe\">\n",
       "  <thead>\n",
       "    <tr style=\"text-align: right;\">\n",
       "      <th></th>\n",
       "      <th>instrument</th>\n",
       "      <th>industry</th>\n",
       "    </tr>\n",
       "  </thead>\n",
       "  <tbody>\n",
       "    <tr>\n",
       "      <th>0</th>\n",
       "      <td>SZ000019</td>\n",
       "      <td>801200.SI</td>\n",
       "    </tr>\n",
       "    <tr>\n",
       "      <th>1</th>\n",
       "      <td>SZ000034</td>\n",
       "      <td>801770.SI</td>\n",
       "    </tr>\n",
       "    <tr>\n",
       "      <th>2</th>\n",
       "      <td>SZ000048</td>\n",
       "      <td>801180.SI</td>\n",
       "    </tr>\n",
       "    <tr>\n",
       "      <th>3</th>\n",
       "      <td>SZ000061</td>\n",
       "      <td>801200.SI</td>\n",
       "    </tr>\n",
       "    <tr>\n",
       "      <th>4</th>\n",
       "      <td>SZ000505</td>\n",
       "      <td>801180.SI</td>\n",
       "    </tr>\n",
       "    <tr>\n",
       "      <th>...</th>\n",
       "      <td>...</td>\n",
       "      <td>...</td>\n",
       "    </tr>\n",
       "    <tr>\n",
       "      <th>5405</th>\n",
       "      <td>SH688701</td>\n",
       "      <td>801970.SI</td>\n",
       "    </tr>\n",
       "    <tr>\n",
       "      <th>5406</th>\n",
       "      <td>SZ001328</td>\n",
       "      <td>801980.SI</td>\n",
       "    </tr>\n",
       "    <tr>\n",
       "      <th>5407</th>\n",
       "      <td>SZ301371</td>\n",
       "      <td>801980.SI</td>\n",
       "    </tr>\n",
       "    <tr>\n",
       "      <th>5408</th>\n",
       "      <td>SH603193</td>\n",
       "      <td>801980.SI</td>\n",
       "    </tr>\n",
       "    <tr>\n",
       "      <th>5409</th>\n",
       "      <td>SH688363</td>\n",
       "      <td>801980.SI</td>\n",
       "    </tr>\n",
       "  </tbody>\n",
       "</table>\n",
       "<p>5410 rows × 2 columns</p>\n",
       "</div>"
      ],
      "text/plain": [
       "     instrument   industry\n",
       "0      SZ000019  801200.SI\n",
       "1      SZ000034  801770.SI\n",
       "2      SZ000048  801180.SI\n",
       "3      SZ000061  801200.SI\n",
       "4      SZ000505  801180.SI\n",
       "...         ...        ...\n",
       "5405   SH688701  801970.SI\n",
       "5406   SZ001328  801980.SI\n",
       "5407   SZ301371  801980.SI\n",
       "5408   SH603193  801980.SI\n",
       "5409   SH688363  801980.SI\n",
       "\n",
       "[5410 rows x 2 columns]"
      ]
     },
     "execution_count": 9,
     "metadata": {},
     "output_type": "execute_result"
    }
   ],
   "source": [
    "df['instrument'] = df['instrument'].str.replace(\n",
    "    r'(\\d+)\\.(\\w+)',     # 匹配：一串数字 + “.” + 一串字母\n",
    "    r'\\2\\1',             # 替换为：字母 + 数字\n",
    "    regex=True\n",
    ")\n",
    "df"
   ]
  },
  {
   "cell_type": "code",
   "execution_count": 10,
   "metadata": {},
   "outputs": [],
   "source": [
    "df.to_csv(\"/data/home/dinghj/zr-alphagen/zr-alpha-training-base/paper/AlphaEvolve/industry.csv\", index=False)"
   ]
  },
  {
   "cell_type": "code",
   "execution_count": 3,
   "metadata": {},
   "outputs": [
    {
     "name": "stderr",
     "output_type": "stream",
     "text": [
      "[95764:MainThread](2025-07-08 09:39:17,476) INFO - my_qlib.Initialization - [config.py:420] - default_conf: client.\n",
      "[95764:MainThread](2025-07-08 09:39:18,681) INFO - my_qlib.Initialization - [__init__.py:74] - my_qlib successfully initialized based on client settings.\n",
      "[95764:MainThread](2025-07-08 09:39:18,683) INFO - my_qlib.Initialization - [__init__.py:76] - data_path={'__DEFAULT_FREQ': PosixPath('/data/home/dinghj/zr-alphagen/zr-alpha-training-base/.qlib/qlib_data/cn_data')}\n"
     ]
    }
   ],
   "source": [
    "import my_qlib\n",
    "my_qlib.init(\n",
    "    provider_uri=\"/data/home/dinghj/zr-alphagen/zr-alpha-training-base/.qlib/qlib_data/cn_data\",\n",
    "    region=\"cn\"\n",
    ")"
   ]
  },
  {
   "cell_type": "code",
   "execution_count": 4,
   "metadata": {},
   "outputs": [],
   "source": [
    "from my_qlib.data.ops import load_relation_map_from_csv\n",
    "load_relation_map_from_csv(\"/data/home/dinghj/zr-alphagen/zr-alpha-training-base/paper/AlphaEvolve/industry.csv\")"
   ]
  },
  {
   "cell_type": "code",
   "execution_count": 5,
   "metadata": {},
   "outputs": [
    {
     "name": "stdout",
     "output_type": "stream",
     "text": [
      "Instrument SH600627 的行业映射不存在，请先加载关系映射。\n",
      "Instrument SZ000043 的行业映射不存在，请先加载关系映射。\n",
      "Instrument SZ000022 的行业映射不存在，请先加载关系映射。\n",
      "Instrument SH600263 的行业映射不存在，请先加载关系映射。\n",
      "Instrument SH600786 的行业映射不存在，请先加载关系映射。\n",
      "Instrument SH600991 的行业映射不存在，请先加载关系映射。\n",
      "Instrument SH600553 的行业映射不存在，请先加载关系映射。\n",
      "Instrument SH689009 的行业映射不存在，请先加载关系映射。\n"
     ]
    },
    {
     "data": {
      "text/html": [
       "<div>\n",
       "<style scoped>\n",
       "    .dataframe tbody tr th:only-of-type {\n",
       "        vertical-align: middle;\n",
       "    }\n",
       "\n",
       "    .dataframe tbody tr th {\n",
       "        vertical-align: top;\n",
       "    }\n",
       "\n",
       "    .dataframe thead th {\n",
       "        text-align: right;\n",
       "    }\n",
       "</style>\n",
       "<table border=\"1\" class=\"dataframe\">\n",
       "  <thead>\n",
       "    <tr style=\"text-align: right;\">\n",
       "      <th></th>\n",
       "      <th></th>\n",
       "      <th>RelationRank($close)</th>\n",
       "    </tr>\n",
       "    <tr>\n",
       "      <th>instrument</th>\n",
       "      <th>datetime</th>\n",
       "      <th></th>\n",
       "    </tr>\n",
       "  </thead>\n",
       "  <tbody>\n",
       "    <tr>\n",
       "      <th rowspan=\"5\" valign=\"top\">SH600000</th>\n",
       "      <th>2023-01-03</th>\n",
       "      <td>0.976190</td>\n",
       "    </tr>\n",
       "    <tr>\n",
       "      <th>2023-01-04</th>\n",
       "      <td>0.976190</td>\n",
       "    </tr>\n",
       "    <tr>\n",
       "      <th>2023-01-05</th>\n",
       "      <td>0.976190</td>\n",
       "    </tr>\n",
       "    <tr>\n",
       "      <th>2023-01-06</th>\n",
       "      <td>0.952381</td>\n",
       "    </tr>\n",
       "    <tr>\n",
       "      <th>2023-01-09</th>\n",
       "      <td>0.952381</td>\n",
       "    </tr>\n",
       "    <tr>\n",
       "      <th>...</th>\n",
       "      <th>...</th>\n",
       "      <td>...</td>\n",
       "    </tr>\n",
       "    <tr>\n",
       "      <th rowspan=\"5\" valign=\"top\">SZ301029</th>\n",
       "      <th>2023-06-26</th>\n",
       "      <td>0.106272</td>\n",
       "    </tr>\n",
       "    <tr>\n",
       "      <th>2023-06-27</th>\n",
       "      <td>0.090592</td>\n",
       "    </tr>\n",
       "    <tr>\n",
       "      <th>2023-06-28</th>\n",
       "      <td>0.094077</td>\n",
       "    </tr>\n",
       "    <tr>\n",
       "      <th>2023-06-29</th>\n",
       "      <td>0.090592</td>\n",
       "    </tr>\n",
       "    <tr>\n",
       "      <th>2023-06-30</th>\n",
       "      <td>0.088696</td>\n",
       "    </tr>\n",
       "  </tbody>\n",
       "</table>\n",
       "<p>94372 rows × 1 columns</p>\n",
       "</div>"
      ],
      "text/plain": [
       "                       RelationRank($close)\n",
       "instrument datetime                        \n",
       "SH600000   2023-01-03              0.976190\n",
       "           2023-01-04              0.976190\n",
       "           2023-01-05              0.976190\n",
       "           2023-01-06              0.952381\n",
       "           2023-01-09              0.952381\n",
       "...                                     ...\n",
       "SZ301029   2023-06-26              0.106272\n",
       "           2023-06-27              0.090592\n",
       "           2023-06-28              0.094077\n",
       "           2023-06-29              0.090592\n",
       "           2023-06-30              0.088696\n",
       "\n",
       "[94372 rows x 1 columns]"
      ]
     },
     "execution_count": 5,
     "metadata": {},
     "output_type": "execute_result"
    }
   ],
   "source": [
    "from my_qlib.data import D\n",
    "df = D.features(\n",
    "    instruments=D.instruments(market='csi800'),\n",
    "    fields=[\n",
    "        # \"Mean($close, 5)\",\n",
    "        \"RelationRank($close)\",\n",
    "    ],\n",
    "    start_time=\"2023-01-01\",\n",
    "    end_time=\"2023-06-30\",\n",
    "    freq='day'\n",
    ")\n",
    "df"
   ]
  }
 ],
 "metadata": {
  "kernelspec": {
   "display_name": "myenv",
   "language": "python",
   "name": "python3"
  },
  "language_info": {
   "codemirror_mode": {
    "name": "ipython",
    "version": 3
   },
   "file_extension": ".py",
   "mimetype": "text/x-python",
   "name": "python",
   "nbconvert_exporter": "python",
   "pygments_lexer": "ipython3",
   "version": "3.11.11"
  }
 },
 "nbformat": 4,
 "nbformat_minor": 2
}
