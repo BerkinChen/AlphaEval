{
 "cells": [
  {
   "cell_type": "code",
   "execution_count": 1,
   "metadata": {},
   "outputs": [
    {
     "name": "stderr",
     "output_type": "stream",
     "text": [
      "[25392:MainThread](2025-05-21 20:41:47,707) INFO - qlib.Initialization - [config.py:420] - default_conf: client.\n",
      "[25392:MainThread](2025-05-21 20:41:48,950) INFO - qlib.Initialization - [__init__.py:74] - qlib successfully initialized based on client settings.\n",
      "[25392:MainThread](2025-05-21 20:41:48,951) INFO - qlib.Initialization - [__init__.py:76] - data_path={'__DEFAULT_FREQ': PosixPath('/data/home/dinghj/zr-alphagen/zr-alpha-training-base/.qlib/qlib_data/cn_data')}\n"
     ]
    }
   ],
   "source": [
    "import numpy as np\n",
    "import qlib\n",
    "from qlib.data import D\n",
    "\n",
    "# 1. 初始化 Qlib，用你自己的数据路径或测试路径\n",
    "qlib.init(\n",
    "    provider_uri=\"/data/home/dinghj/zr-alphagen/zr-alpha-training-base/.qlib/qlib_data/cn_data\",\n",
    "    region=\"cn\"\n",
    ")"
   ]
  },
  {
   "cell_type": "code",
   "execution_count": 2,
   "metadata": {},
   "outputs": [],
   "source": [
    "from gplearn._program import _Program\n",
    "from gplearn.fitness import _fitness_map"
   ]
  },
  {
   "cell_type": "code",
   "execution_count": 3,
   "metadata": {},
   "outputs": [],
   "source": [
    "# 3. 构造一个固定的 _Program 实例\n",
    "prog = _Program(\n",
    "    function_set=[\"Mean\"],\n",
    "    # 这里按照你在 config.py 里定义的 arity：Mean 对应 4，\n",
    "    # 但 __str__ 会将 arity=4 当作二元算子(序列, 窗口)来处理\n",
    "    arities={4: [\"Mean\"]},\n",
    "    init_depth=(1, 1),\n",
    "    init_method=\"full\",\n",
    "    n_features=1,\n",
    "    const_range=(1, 10),\n",
    "    metric=_fitness_map[\"mse\"],        # 任意可用的 fitness，只用于初始化\n",
    "    p_point_replace=0.1,\n",
    "    parsimony_coefficient=0.0,\n",
    "    random_state=np.random.RandomState(0),\n",
    "    transformer=None,\n",
    "    feature_names=[\"$close\"],          # 用于识别变量名\n",
    "    program=[\"Add\", \"Mean\", \"$close\", 5, 2],     # 我们想要测试的树\n",
    "    qlib_config={                       # 这里只给个占位，__str__ 不会读取它\n",
    "        \"data_client\": D,\n",
    "        \"instruments\": D.instruments(market=\"csi300\"),\n",
    "        \"start_time\": \"2021-01-01\",\n",
    "        \"end_time\": \"2021-02-01\",\n",
    "        \"freq\": \"day\",\n",
    "    }\n",
    ")"
   ]
  },
  {
   "cell_type": "code",
   "execution_count": 4,
   "metadata": {},
   "outputs": [
    {
     "data": {
      "text/plain": [
       "'Add(Mean($close, 5), 2)'"
      ]
     },
     "execution_count": 4,
     "metadata": {},
     "output_type": "execute_result"
    }
   ],
   "source": [
    "str(prog)"
   ]
  },
  {
   "cell_type": "code",
   "execution_count": 5,
   "metadata": {},
   "outputs": [
    {
     "name": "stdout",
     "output_type": "stream",
     "text": [
      "                       Add(Mean($close, 5), 2)\n",
      "instrument datetime                           \n",
      "SH600000   2021-01-04                13.998880\n",
      "           2021-01-05                14.026306\n",
      "           2021-01-06                14.098881\n",
      "           2021-01-07                14.176306\n",
      "           2021-01-08                14.213806\n"
     ]
    }
   ],
   "source": [
    "from qlib.data import D\n",
    "expr = \"Add(Mean($close, 5), 2)\"\n",
    "df = D.features(instruments=D.instruments('csi300'),\n",
    "                fields=[expr],\n",
    "                start_time=\"2021-01-01\",\n",
    "                end_time=\"2021-02-01\",\n",
    "                freq=\"day\")\n",
    "print(df.head())"
   ]
  },
  {
   "cell_type": "code",
   "execution_count": 6,
   "metadata": {},
   "outputs": [
    {
     "name": "stdout",
     "output_type": "stream",
     "text": [
      "Add(Mean($close, 5), 2)\n"
     ]
    },
    {
     "data": {
      "text/plain": [
       "array([13.99888 , 14.026306, 14.098881, ..., 10.326578,  9.925967,\n",
       "        9.630958], dtype=float32)"
      ]
     },
     "execution_count": 6,
     "metadata": {},
     "output_type": "execute_result"
    }
   ],
   "source": [
    "out = prog.execute(None)\n",
    "out"
   ]
  },
  {
   "cell_type": "markdown",
   "metadata": {},
   "source": [
    "# Phase 4"
   ]
  },
  {
   "cell_type": "code",
   "execution_count": 7,
   "metadata": {},
   "outputs": [
    {
     "name": "stderr",
     "output_type": "stream",
     "text": [
      "[25392:MainThread](2025-05-21 20:41:53,196) INFO - qlib.Initialization - [config.py:420] - default_conf: client.\n",
      "[25392:MainThread](2025-05-21 20:41:53,199) INFO - qlib.Initialization - [__init__.py:74] - qlib successfully initialized based on client settings.\n",
      "[25392:MainThread](2025-05-21 20:41:53,200) INFO - qlib.Initialization - [__init__.py:76] - data_path={'__DEFAULT_FREQ': PosixPath('/data/home/dinghj/zr-alphagen/zr-alpha-training-base/.qlib/qlib_data/cn_data')}\n"
     ]
    }
   ],
   "source": [
    "import numpy as np\n",
    "import qlib\n",
    "from qlib.data import D\n",
    "from gplearn._program import _Program\n",
    "from gplearn.config import functions_arity\n",
    "\n",
    "# ——— 1. 初始化 Qlib ———\n",
    "qlib.init(\n",
    "    provider_uri=\"/data/home/dinghj/zr-alphagen/zr-alpha-training-base/.qlib/qlib_data/cn_data\",\n",
    "    region=\"cn\"\n",
    ")\n",
    "\n",
    "# ——— 2. 构造通用参数 ———\n",
    "common_args = {\n",
    "    \"function_set\": [\"Mean\", \"Add\"],\n",
    "    # Mean 在 config.py 中标为 arity=4（滚动类），Add 标为 arity=2\n",
    "    \"arities\": {4: [\"Mean\"], 2: [\"Add\"]},\n",
    "    \"init_depth\": (1, 1),\n",
    "    \"init_method\": \"full\",\n",
    "    \"n_features\": 1,\n",
    "    \"const_range\": (1, 10),\n",
    "    \"metric\": None,                # 只为初始化，不实际用\n",
    "    \"p_point_replace\": 0.0,\n",
    "    \"parsimony_coefficient\": 0.0,\n",
    "    \"random_state\": np.random.RandomState(0),\n",
    "    \"transformer\": None,\n",
    "    \"feature_names\": [\"$close\"],\n",
    "    \"qlib_config\": {\n",
    "        \"data_client\": D,\n",
    "        \"instruments\": D.instruments(market=\"csi300\"),\n",
    "        \"start_time\": \"2021-01-01\",\n",
    "        \"end_time\": \"2021-02-01\",\n",
    "        \"freq\": \"day\",\n",
    "    }\n",
    "}\n",
    "\n",
    "# ——— 3. 创建两个简单的 _Program 实例 ———\n",
    "prog1 = _Program(program=[\"Add\", \"Mean\", \"$close\", 5, 2], **common_args)\n",
    "prog2 = _Program(program=[\"Sub\", \"$close\", \"$open\"],  **common_args)"
   ]
  },
  {
   "cell_type": "code",
   "execution_count": 8,
   "metadata": {},
   "outputs": [],
   "source": [
    "def assert_valid(nodes):\n",
    "    \"\"\"\n",
    "    尝试用 nodes 列表重新构造 _Program，\n",
    "    若抛异常则说明语法不合法。\n",
    "    \"\"\"\n",
    "    try:\n",
    "        _Program(program=nodes, **common_args)\n",
    "    except Exception as e:\n",
    "        raise AssertionError(f\"非法程序结构: {e}\")\n",
    "\n",
    "def assert_window_constants(nodes):\n",
    "    \"\"\"\n",
    "    对于所有标记为滚动类的函数（functions_arity == 4），\n",
    "    检查其第二个子节点（窗口参数）是否为 int 或 float。\n",
    "    \"\"\"\n",
    "    for idx, node in enumerate(nodes):\n",
    "        if isinstance(node, str) and functions_arity.get(node, 0) == 4:\n",
    "            # __str__ 中把 arity=4 当成二元算子，第二个参数在 idx+2\n",
    "            if idx + 2 >= len(nodes):\n",
    "                raise AssertionError(f\"函数 {node} 缺少参数\")\n",
    "            win = nodes[idx + 2]\n",
    "            if not isinstance(win, (int, float)):\n",
    "                raise AssertionError(f\"{node} 的窗口参数不是常量: got {win!r}\")"
   ]
  },
  {
   "cell_type": "code",
   "execution_count": 9,
   "metadata": {},
   "outputs": [],
   "source": [
    "offspring, removed, donor_removed = prog1.crossover(prog2.program, np.random.RandomState(1))\n",
    "assert_valid(offspring)\n",
    "assert_window_constants(offspring)"
   ]
  },
  {
   "cell_type": "code",
   "execution_count": 10,
   "metadata": {},
   "outputs": [
    {
     "name": "stdout",
     "output_type": "stream",
     "text": [
      "['Mean', 'Add']\n",
      "['$close']\n"
     ]
    }
   ],
   "source": [
    "mutated, removed, _ = prog1.subtree_mutation(np.random.RandomState(2))\n",
    "assert_valid(mutated)\n",
    "assert_window_constants(mutated)"
   ]
  },
  {
   "cell_type": "code",
   "execution_count": 11,
   "metadata": {},
   "outputs": [],
   "source": [
    "hoisted, removed = prog1.hoist_mutation(np.random.RandomState(3))\n",
    "assert_valid(hoisted)\n",
    "assert_window_constants(hoisted)"
   ]
  },
  {
   "cell_type": "code",
   "execution_count": 12,
   "metadata": {},
   "outputs": [],
   "source": [
    "point_mut, mutated_nodes = prog1.point_mutation(np.random.RandomState(4))\n",
    "assert_valid(point_mut)\n",
    "assert_window_constants(point_mut)"
   ]
  },
  {
   "cell_type": "code",
   "execution_count": 13,
   "metadata": {},
   "outputs": [
    {
     "name": "stderr",
     "output_type": "stream",
     "text": [
      "/data/home/dinghj/miniconda3/envs/myenv/lib/python3.11/site-packages/gplearn/genetic.py:353: SyntaxWarning: 'str' object is not callable; perhaps you missed a comma?\n",
      "  raise ValueError('invalid type found in `function_set`.'\n"
     ]
    }
   ],
   "source": [
    "import numpy as np\n",
    "import pandas as pd\n",
    "from gplearn.genetic import SymbolicTransformer\n",
    "\n",
    "# 生成伪造数据\n",
    "n_samples = 6300\n",
    "n_features = 2\n",
    "X = np.random.randn(n_samples, n_features)\n",
    "y = np.random.randn(n_samples)\n",
    "\n",
    "# 创建并运行 SymbolicTransformer\n",
    "transformer = SymbolicTransformer(\n",
    "    population_size=10,             # 极小种群\n",
    "    hall_of_fame=5,                  # 最多保留 5 个最优程序\n",
    "    n_components=3,                  # 最终生成 3 个特征\n",
    "    generations=1,                   # 只跑一代\n",
    "    function_set=(\"Add\", \"Mean\", \"Sub\"),    # 简化的算子集\n",
    "    metric=\"pearson\",                # 用相关系数做指标\n",
    "    parsimony_coefficient=0.0,\n",
    "    qlib_config=common_args[\"qlib_config\"],\n",
    "    feature_names=[\"$close\", \"$open\"],        # 与 X 列对应\n",
    "    random_state=0\n",
    ")"
   ]
  },
  {
   "cell_type": "code",
   "execution_count": 14,
   "metadata": {},
   "outputs": [
    {
     "name": "stdout",
     "output_type": "stream",
     "text": [
      "['Add', 'Mean', 'Sub']\n",
      "['$close', '$open']\n",
      "Sub(Add(Sub(Mean(Sub($open, $open), 30), Sub(Mean($close, 64), Sub($close, $open))), $close), Sub(Mean(Sub(Sub($open, $open), Mean($close, 64)), 64), Sub($close, Mean(Mean($open, 64), 2))))\n",
      "['Add', 'Mean', 'Sub']\n",
      "['$close', '$open']\n",
      "Add(Add(Mean(Mean(Sub($close, $open), 12), 64), Sub(Add(Mean($open, 5), Sub($close, $open)), Add(Mean($open, 5), Add($close, $close)))), Mean(Mean(Sub(Mean($open, 12), Mean($close, 30)), 30), 30))\n",
      "['Add', 'Mean', 'Sub']\n",
      "['$close', '$open']\n",
      "Sub(Sub(Mean(Mean(Add($close, $close), 2), 5), Sub(Sub(Mean($open, 2), Mean($open, 30)), Sub(Sub($open, $open), Add($open, $close)))), Sub(Add(Add(Add($open, $close), Add($open, $close)), Add(Add($close, $open), Add($close, $open))), Add(Mean(Mean($open, 12), 2), Add(Add($open, $close), Sub($open, $open)))))\n",
      "['Add', 'Mean', 'Sub']\n",
      "['$close', '$open']\n",
      "Add(Add($open, Add(Mean(Mean($close, 64), 2), $close)), Sub($open, Sub($open, $open)))\n",
      "['Add', 'Mean', 'Sub']\n",
      "['$close', '$open']\n",
      "Mean(Sub(Sub($close, $open), Add($close, $close)), 30)\n",
      "['Add', 'Mean', 'Sub']\n",
      "['$close', '$open']\n",
      "Add(Mean(Sub(Sub($open, $close), Mean($open, 12)), 5), Sub(Mean(Add($open, $close), 12), Mean(Add($open, $close), 30)))\n",
      "['Add', 'Mean', 'Sub']\n",
      "['$close', '$open']\n",
      "Sub(Sub(Sub(Mean($close, 64), Mean($open, 64)), Sub(Mean($open, 2), Mean($close, 30))), Mean(Sub(Add($open, $close), Mean($open, 2)), 5))\n",
      "['Add', 'Mean', 'Sub']\n",
      "['$close', '$open']\n",
      "Mean(Sub(Sub(Mean($close, 5), Sub(Add(Sub($close, $close), Sub($close, $open)), Mean(Sub($open, $open), 5))), Add(Add($open, Mean(Add($close, $open), 30)), Add($close, Add(Add($open, $open), $close)))), 64)\n",
      "['Add', 'Mean', 'Sub']\n",
      "['$close', '$open']\n",
      "Sub(Add($close, $close), Mean($close, 64))\n",
      "['Add', 'Mean', 'Sub']\n",
      "['$close', '$open']\n",
      "Sub(Mean(Sub($close, Sub(Mean($open, 2), Mean($open, 2))), 2), Add(Add(Add(Sub($open, $close), $close), Mean($open, 2)), Add(Add($close, Sub($open, $open)), Add($close, Sub($open, $close)))))\n",
      "Mean(Sub(Sub($close, $open), Add($close, $close)), 30)\n",
      "Add(Mean(Sub(Sub($open, $close), Mean($open, 12)), 5), Sub(Mean(Add($open, $close), 12), Mean(Add($open, $close), 30)))\n",
      "Mean(Sub(Sub(Mean($close, 5), Sub(Add(Sub($close, $close), Sub($close, $open)), Mean(Sub($open, $open), 5))), Add(Add($open, Mean(Add($close, $open), 30)), Add($close, Add(Add($open, $open), $close)))), 64)\n",
      "Sub(Mean(Sub($close, Sub(Mean($open, 2), Mean($open, 2))), 2), Add(Add(Add(Sub($open, $close), $close), Mean($open, 2)), Add(Add($close, Sub($open, $open)), Add($close, Sub($open, $close)))))\n",
      "Sub(Add($close, $close), Mean($close, 64))\n",
      "Mean(Sub(Sub($close, $open), Add($close, $close)), 30)\n",
      "Add(Mean(Sub(Sub($open, $close), Mean($open, 12)), 5), Sub(Mean(Add($open, $close), 12), Mean(Add($open, $close), 30)))\n",
      "Mean(Sub(Sub(Mean($close, 5), Sub(Add(Sub($close, $close), Sub($close, $open)), Mean(Sub($open, $open), 5))), Add(Add($open, Mean(Add($close, $open), 30)), Add($close, Add(Add($open, $open), $close)))), 64)\n"
     ]
    }
   ],
   "source": [
    "X_new = transformer.fit_transform(X, y)"
   ]
  },
  {
   "cell_type": "code",
   "execution_count": 16,
   "metadata": {},
   "outputs": [],
   "source": [
    "programs = transformer._best_programs"
   ]
  },
  {
   "cell_type": "code",
   "execution_count": 24,
   "metadata": {},
   "outputs": [
    {
     "data": {
      "text/html": [
       "<div>\n",
       "<style scoped>\n",
       "    .dataframe tbody tr th:only-of-type {\n",
       "        vertical-align: middle;\n",
       "    }\n",
       "\n",
       "    .dataframe tbody tr th {\n",
       "        vertical-align: top;\n",
       "    }\n",
       "\n",
       "    .dataframe thead th {\n",
       "        text-align: right;\n",
       "    }\n",
       "</style>\n",
       "<table border=\"1\" class=\"dataframe\">\n",
       "  <thead>\n",
       "    <tr style=\"text-align: right;\">\n",
       "      <th></th>\n",
       "      <th>formula</th>\n",
       "      <th>IC</th>\n",
       "    </tr>\n",
       "  </thead>\n",
       "  <tbody>\n",
       "    <tr>\n",
       "      <th>0</th>\n",
       "      <td>Mean(Sub(Sub($close, $open), Add($close, $clos...</td>\n",
       "      <td>0.007669</td>\n",
       "    </tr>\n",
       "    <tr>\n",
       "      <th>1</th>\n",
       "      <td>Add(Mean(Sub(Sub($open, $close), Mean($open, 1...</td>\n",
       "      <td>0.007837</td>\n",
       "    </tr>\n",
       "    <tr>\n",
       "      <th>2</th>\n",
       "      <td>Mean(Sub(Sub(Mean($close, 5), Sub(Add(Sub($clo...</td>\n",
       "      <td>0.007013</td>\n",
       "    </tr>\n",
       "  </tbody>\n",
       "</table>\n",
       "</div>"
      ],
      "text/plain": [
       "                                             formula        IC\n",
       "0  Mean(Sub(Sub($close, $open), Add($close, $clos...  0.007669\n",
       "1  Add(Mean(Sub(Sub($open, $close), Mean($open, 1...  0.007837\n",
       "2  Mean(Sub(Sub(Mean($close, 5), Sub(Add(Sub($clo...  0.007013"
      ]
     },
     "execution_count": 24,
     "metadata": {},
     "output_type": "execute_result"
    }
   ],
   "source": [
    "records = []\n",
    "from scipy.stats import spearmanr\n",
    "for idx, prog in enumerate(programs):\n",
    "    expr = str(prog)\n",
    "    ic = spearmanr(X_new[:, idx], y).correlation\n",
    "    records.append({\n",
    "        \"formula\":   expr,\n",
    "        \"IC\":  ic,\n",
    "    })\n",
    "\n",
    "# 5) 整理成 DataFrame 并按 IC_train 排序\n",
    "result_df = pd.DataFrame(records)\n",
    "\n",
    "# 6) 打印 & （可选）保存到 csv\n",
    "result_df"
   ]
  }
 ],
 "metadata": {
  "kernelspec": {
   "display_name": "myenv",
   "language": "python",
   "name": "python3"
  },
  "language_info": {
   "codemirror_mode": {
    "name": "ipython",
    "version": 3
   },
   "file_extension": ".py",
   "mimetype": "text/x-python",
   "name": "python",
   "nbconvert_exporter": "python",
   "pygments_lexer": "ipython3",
   "version": "3.11.11"
  }
 },
 "nbformat": 4,
 "nbformat_minor": 2
}
